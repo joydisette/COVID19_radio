{
 "cells": [
  {
   "cell_type": "markdown",
   "metadata": {},
   "source": [
    "# Read and visualize dicom files"
   ]
  },
  {
   "cell_type": "markdown",
   "metadata": {},
   "source": [
    "### Imports"
   ]
  },
  {
   "cell_type": "code",
   "execution_count": 4,
   "metadata": {},
   "outputs": [],
   "source": [
    "import sys\n",
    "import os\n",
    "from glob import glob\n",
    "import napari\n",
    "import pydicom\n",
    "import zarr\n",
    "import numpy as np\n",
    "import skimage"
   ]
  },
  {
   "cell_type": "markdown",
   "metadata": {},
   "source": [
    "### Paths"
   ]
  },
  {
   "cell_type": "code",
   "execution_count": 5,
   "metadata": {},
   "outputs": [],
   "source": [
    "img_dir = '/Users/nikhil/Downloads/Series-2/'"
   ]
  },
  {
   "cell_type": "markdown",
   "metadata": {},
   "source": [
    "### Read dicoms "
   ]
  },
  {
   "cell_type": "code",
   "execution_count": 6,
   "metadata": {
    "scrolled": true
   },
   "outputs": [
    {
     "name": "stdout",
     "output_type": "stream",
     "text": [
      "glob: /Users/nikhil/Downloads/Series-2/\n",
      "loading: /Users/nikhil/Downloads/Series-2/Image-27.dcm\n",
      "loading: /Users/nikhil/Downloads/Series-2/Image-33.dcm\n",
      "loading: /Users/nikhil/Downloads/Series-2/Image-32.dcm\n",
      "loading: /Users/nikhil/Downloads/Series-2/Image-26.dcm\n",
      "loading: /Users/nikhil/Downloads/Series-2/Image-30.dcm\n",
      "loading: /Users/nikhil/Downloads/Series-2/Image-24.dcm\n",
      "loading: /Users/nikhil/Downloads/Series-2/Image-18.dcm\n",
      "loading: /Users/nikhil/Downloads/Series-2/Image-19.dcm\n",
      "loading: /Users/nikhil/Downloads/Series-2/Image-25.dcm\n",
      "loading: /Users/nikhil/Downloads/Series-2/Image-31.dcm\n",
      "loading: /Users/nikhil/Downloads/Series-2/Image-35.dcm\n",
      "loading: /Users/nikhil/Downloads/Series-2/Image-21.dcm\n",
      "loading: /Users/nikhil/Downloads/Series-2/Image-20.dcm\n",
      "loading: /Users/nikhil/Downloads/Series-2/Image-34.dcm\n",
      "loading: /Users/nikhil/Downloads/Series-2/Image-22.dcm\n",
      "loading: /Users/nikhil/Downloads/Series-2/Image-36.dcm\n",
      "loading: /Users/nikhil/Downloads/Series-2/Image-37.dcm\n",
      "loading: /Users/nikhil/Downloads/Series-2/Image-23.dcm\n",
      "loading: /Users/nikhil/Downloads/Series-2/Image-44.dcm\n",
      "loading: /Users/nikhil/Downloads/Series-2/Image-50.dcm\n",
      "loading: /Users/nikhil/Downloads/Series-2/Image-78.dcm\n",
      "loading: /Users/nikhil/Downloads/Series-2/Image-79.dcm\n",
      "loading: /Users/nikhil/Downloads/Series-2/Image-51.dcm\n",
      "loading: /Users/nikhil/Downloads/Series-2/Image-45.dcm\n",
      "loading: /Users/nikhil/Downloads/Series-2/Image-84.dcm\n",
      "loading: /Users/nikhil/Downloads/Series-2/Image-53.dcm\n",
      "loading: /Users/nikhil/Downloads/Series-2/Image-47.dcm\n",
      "loading: /Users/nikhil/Downloads/Series-2/Image-8.dcm\n",
      "loading: /Users/nikhil/Downloads/Series-2/Image-9.dcm\n",
      "loading: /Users/nikhil/Downloads/Series-2/Image-46.dcm\n",
      "loading: /Users/nikhil/Downloads/Series-2/Image-52.dcm\n",
      "loading: /Users/nikhil/Downloads/Series-2/Image-81.dcm\n",
      "loading: /Users/nikhil/Downloads/Series-2/Image-56.dcm\n",
      "loading: /Users/nikhil/Downloads/Series-2/Image-42.dcm\n",
      "loading: /Users/nikhil/Downloads/Series-2/Image-43.dcm\n",
      "loading: /Users/nikhil/Downloads/Series-2/Image-57.dcm\n",
      "loading: /Users/nikhil/Downloads/Series-2/Image-80.dcm\n",
      "loading: /Users/nikhil/Downloads/Series-2/Image-82.dcm\n",
      "loading: /Users/nikhil/Downloads/Series-2/Image-69.dcm\n",
      "loading: /Users/nikhil/Downloads/Series-2/Image-41.dcm\n",
      "loading: /Users/nikhil/Downloads/Series-2/Image-55.dcm\n",
      "loading: /Users/nikhil/Downloads/Series-2/Image-54.dcm\n",
      "loading: /Users/nikhil/Downloads/Series-2/Image-40.dcm\n",
      "loading: /Users/nikhil/Downloads/Series-2/Image-68.dcm\n",
      "loading: /Users/nikhil/Downloads/Series-2/Image-83.dcm\n",
      "loading: /Users/nikhil/Downloads/Series-2/Image-65.dcm\n",
      "loading: /Users/nikhil/Downloads/Series-2/Image-71.dcm\n",
      "loading: /Users/nikhil/Downloads/Series-2/Image-59.dcm\n",
      "loading: /Users/nikhil/Downloads/Series-2/Image-2.dcm\n",
      "loading: /Users/nikhil/Downloads/Series-2/Image-3.dcm\n",
      "loading: /Users/nikhil/Downloads/Series-2/Image-58.dcm\n",
      "loading: /Users/nikhil/Downloads/Series-2/Image-70.dcm\n",
      "loading: /Users/nikhil/Downloads/Series-2/Image-64.dcm\n",
      "loading: /Users/nikhil/Downloads/Series-2/Image-72.dcm\n",
      "loading: /Users/nikhil/Downloads/Series-2/Image-66.dcm\n",
      "loading: /Users/nikhil/Downloads/Series-2/Image-1.dcm\n",
      "loading: /Users/nikhil/Downloads/Series-2/Image-67.dcm\n",
      "loading: /Users/nikhil/Downloads/Series-2/Image-73.dcm\n",
      "loading: /Users/nikhil/Downloads/Series-2/Image-77.dcm\n",
      "loading: /Users/nikhil/Downloads/Series-2/Image-63.dcm\n",
      "loading: /Users/nikhil/Downloads/Series-2/Image-4.dcm\n",
      "loading: /Users/nikhil/Downloads/Series-2/Image-5.dcm\n",
      "loading: /Users/nikhil/Downloads/Series-2/Image-62.dcm\n",
      "loading: /Users/nikhil/Downloads/Series-2/Image-76.dcm\n",
      "loading: /Users/nikhil/Downloads/Series-2/Image-48.dcm\n",
      "loading: /Users/nikhil/Downloads/Series-2/Image-60.dcm\n",
      "loading: /Users/nikhil/Downloads/Series-2/Image-74.dcm\n",
      "loading: /Users/nikhil/Downloads/Series-2/Image-7.dcm\n",
      "loading: /Users/nikhil/Downloads/Series-2/Image-6.dcm\n",
      "loading: /Users/nikhil/Downloads/Series-2/Image-75.dcm\n",
      "loading: /Users/nikhil/Downloads/Series-2/Image-61.dcm\n",
      "loading: /Users/nikhil/Downloads/Series-2/Image-49.dcm\n",
      "loading: /Users/nikhil/Downloads/Series-2/Image-12.dcm\n",
      "loading: /Users/nikhil/Downloads/Series-2/Image-13.dcm\n",
      "loading: /Users/nikhil/Downloads/Series-2/Image-11.dcm\n",
      "loading: /Users/nikhil/Downloads/Series-2/Image-39.dcm\n",
      "loading: /Users/nikhil/Downloads/Series-2/Image-38.dcm\n",
      "loading: /Users/nikhil/Downloads/Series-2/Image-10.dcm\n",
      "loading: /Users/nikhil/Downloads/Series-2/Image-28.dcm\n",
      "loading: /Users/nikhil/Downloads/Series-2/Image-14.dcm\n",
      "loading: /Users/nikhil/Downloads/Series-2/Image-15.dcm\n",
      "loading: /Users/nikhil/Downloads/Series-2/Image-29.dcm\n",
      "loading: /Users/nikhil/Downloads/Series-2/Image-17.dcm\n",
      "loading: /Users/nikhil/Downloads/Series-2/Image-16.dcm\n",
      "file count: 84\n",
      "skipped, no SliceLocation: 0\n"
     ]
    }
   ],
   "source": [
    "# load the DICOM files\n",
    "files = []\n",
    "print('glob: {}'.format('{}'.format(img_dir)))\n",
    "for fname in glob('{}/*.dcm'.format(img_dir)):\n",
    "#     print(\"loading: {}\".format(fname))\n",
    "    files.append(pydicom.dcmread(fname))\n",
    "\n",
    "print(\"file count: {}\".format(len(files)))\n",
    "\n",
    "# skip files with no SliceLocation (eg scout views)\n",
    "slices = []\n",
    "skipcount = 0\n",
    "for f in files:\n",
    "    if hasattr(f, 'SliceLocation'):\n",
    "        slices.append(f)\n",
    "    else:\n",
    "        skipcount = skipcount + 1\n",
    "\n",
    "print(\"skipped, no SliceLocation: {}\".format(skipcount))\n",
    "\n",
    "# ensure they are in the correct order\n",
    "slices = sorted(slices, key=lambda s: s.SliceLocation)\n",
    "\n",
    "# pixel aspects, assuming all slices are the same\n",
    "ps = slices[0].PixelSpacing\n",
    "ss = slices[0].SliceThickness\n",
    "ax_aspect = ps[1]/ps[0]\n",
    "sag_aspect = ps[1]/ss\n",
    "cor_aspect = ss/ps[0]\n",
    "\n",
    "# create 3D array\n",
    "img_shape = list(slices[0].pixel_array.shape)\n",
    "img_shape.append(len(slices))\n",
    "img3d = np.zeros(img_shape)\n",
    "\n",
    "# fill 3D array with the images from the files\n",
    "for i, s in enumerate(slices):\n",
    "    img2d = s.pixel_array\n",
    "    img3d[:, :, i] = img2d"
   ]
  },
  {
   "cell_type": "markdown",
   "metadata": {},
   "source": [
    "### View dicoms"
   ]
  },
  {
   "cell_type": "code",
   "execution_count": 8,
   "metadata": {},
   "outputs": [],
   "source": [
    "with napari.gui_qt():\n",
    "    viewer = napari.view_image(img3d)"
   ]
  },
  {
   "cell_type": "code",
   "execution_count": null,
   "metadata": {},
   "outputs": [],
   "source": []
  }
 ],
 "metadata": {
  "kernelspec": {
   "display_name": "Python 3",
   "language": "python",
   "name": "python3"
  },
  "language_info": {
   "codemirror_mode": {
    "name": "ipython",
    "version": 3
   },
   "file_extension": ".py",
   "mimetype": "text/x-python",
   "name": "python",
   "nbconvert_exporter": "python",
   "pygments_lexer": "ipython3",
   "version": "3.6.10"
  }
 },
 "nbformat": 4,
 "nbformat_minor": 4
}
